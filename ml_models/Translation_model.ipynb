{
 "cells": [
  {
   "cell_type": "markdown",
   "id": "7ecbc67c-8795-44bf-b635-d4b700bb0cef",
   "metadata": {},
   "source": [
    "# Jupyter Notebook for the Development and Testing of Samvad.ai Translation Model"
   ]
  },
  {
   "cell_type": "code",
   "execution_count": null,
   "id": "522d9021-e3f6-405f-b18c-3200f76bd69d",
   "metadata": {},
   "outputs": [],
   "source": []
  }
 ],
 "metadata": {
  "kernelspec": {
   "display_name": "Python 3 (ipykernel)",
   "language": "python",
   "name": "python3"
  },
  "language_info": {
   "codemirror_mode": {
    "name": "ipython",
    "version": 3
   },
   "file_extension": ".py",
   "mimetype": "text/x-python",
   "name": "python",
   "nbconvert_exporter": "python",
   "pygments_lexer": "ipython3",
   "version": "3.11.7"
  }
 },
 "nbformat": 4,
 "nbformat_minor": 5
}
