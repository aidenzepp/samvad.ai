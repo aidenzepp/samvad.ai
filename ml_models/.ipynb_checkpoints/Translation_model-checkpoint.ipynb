{
 "cells": [
  {
   "cell_type": "markdown",
   "id": "6b15828e",
   "metadata": {},
   "source": [
    "# Jupyter Notebook for the Development and Testing of Samvad.ai Translation Model"
   ]
  },
  {
   "cell_type": "code",
   "execution_count": 1,
   "id": "7d0f4bf8",
   "metadata": {
    "scrolled": true
   },
   "outputs": [],
   "source": [
    "# !pip install google-cloud-vision\n",
    "# if this doesnt work, do conda update python then try again"
   ]
  },
  {
   "cell_type": "code",
   "execution_count": 11,
   "id": "a8cc1713-c7b3-421b-aec3-4ef3bb79f9fb",
   "metadata": {},
   "outputs": [],
   "source": [
    "import os\n",
    "os.environ['GOOGLE_APPLICATION_CREDENTIALS'] = \"/dev/Coding Projects/API_keys/samvad_translate.json\"\n",
    "# ^^^^ FILL THIS IN WITH YOUR OWN KEY TO SERVICE ACCOUNT FOR GOOGLE VISION  ^^^^\n",
    "\n",
    "\"\"\"\n",
    "import os\n",
    "os.environ['GOOGLE_APPLICATION_CREDENTIALS'] = \"/dev/_.json\"\n",
    "\"\"\""
   ]
  },
  {
   "cell_type": "code",
   "execution_count": 12,
   "id": "a5490853-43e1-4d3c-b1ec-8aebe5064a73",
   "metadata": {},
   "outputs": [
    {
     "name": "stdout",
     "output_type": "stream",
     "text": [
      "भारवाहकयन्त्रः\n",
      "अग्निनिकासः (अग्निकाले निकासमार्गः)\n",
      "निकासमार्गः\n",
      "अग्निकालीन द्वारम् न उद्घाटनीयम्\n",
      "(अग्निकलीन द्वारम् अनुद्घाटनीयम्)\n",
      "स्वीकार्य एवम् संप्रेषणकार्यालयः\n",
      "सुरक्षकअन्तर्संवाद यन्त्रः\n",
      "सहायतार्थम् इदम् प्रेषणीयम् तथोत्तरम्\n",
      "प्रतीक्षताम्\n",
      "आकस्मिकद्वारोद्घाटनार्थम् काचकम् त्रोटय\n",
      "आपत्तिकालीनदरभाषम्\n"
     ]
    }
   ],
   "source": [
    "from google.cloud import vision\n",
    "import io\n",
    "\n",
    "def extract_text_from_image(image_path):\n",
    "    \"\"\"Extracts text from an image using Google Cloud Vision API\"\"\"\n",
    "    # Initialize the Vision API client\n",
    "    client = vision.ImageAnnotatorClient()\n",
    "\n",
    "    # Load the image\n",
    "    with io.open(image_path, 'rb') as image_file:\n",
    "        content = image_file.read()\n",
    "    \n",
    "    # Create  Image object\n",
    "    image = vision.Image(content=content)\n",
    "    \n",
    "    # Perform text detection on the image\n",
    "    response = client.text_detection(image=image)\n",
    "    texts = response.text_annotations\n",
    "    \n",
    "    if response.error.message:\n",
    "        raise Exception(f\"Error during Vision API call: {response.error.message}\")\n",
    "    \n",
    "    # Extract the text\n",
    "    extracted_text = texts[0].description if texts else \"\"\n",
    "    \n",
    "    return extracted_text\n",
    "\n",
    "# Test. Will have to incorporate this differently for inputted images\n",
    "image_path = 'test_images/sampleSans1.pdf'\n",
    "extracted_text = extract_text_from_image(image_path)\n",
    "print(extracted_text)\n"
   ]
  },
  {
   "cell_type": "markdown",
   "id": "8411eac8-a2e2-4af7-8db1-103d29ea6b4e",
   "metadata": {},
   "source": [
    "# Translating extracted text"
   ]
  },
  {
   "cell_type": "code",
   "execution_count": 1,
   "id": "0361d4c2-3097-4914-85c3-3b869812f4fa",
   "metadata": {},
   "outputs": [
    {
     "name": "stdout",
     "output_type": "stream",
     "text": [
      "Collecting google-cloud-translate\n",
      "  Downloading google_cloud_translate-3.16.0-py2.py3-none-any.whl.metadata (5.3 kB)\n",
      "Requirement already satisfied: google-api-core!=2.0.*,!=2.1.*,!=2.10.*,!=2.2.*,!=2.3.*,!=2.4.*,!=2.5.*,!=2.6.*,!=2.7.*,!=2.8.*,!=2.9.*,<3.0.0dev,>=1.34.1 in c:\\users\\antho\\anaconda3\\envs\\samvad\\lib\\site-packages (from google-api-core[grpc]!=2.0.*,!=2.1.*,!=2.10.*,!=2.2.*,!=2.3.*,!=2.4.*,!=2.5.*,!=2.6.*,!=2.7.*,!=2.8.*,!=2.9.*,<3.0.0dev,>=1.34.1->google-cloud-translate) (2.19.2)\n",
      "Requirement already satisfied: google-auth!=2.24.0,!=2.25.0,<3.0.0dev,>=2.14.1 in c:\\users\\antho\\anaconda3\\envs\\samvad\\lib\\site-packages (from google-cloud-translate) (2.34.0)\n",
      "Collecting google-cloud-core<3.0.0dev,>=1.4.4 (from google-cloud-translate)\n",
      "  Downloading google_cloud_core-2.4.1-py2.py3-none-any.whl.metadata (2.7 kB)\n",
      "Requirement already satisfied: proto-plus<2.0.0dev,>=1.22.3 in c:\\users\\antho\\anaconda3\\envs\\samvad\\lib\\site-packages (from google-cloud-translate) (1.24.0)\n",
      "Requirement already satisfied: protobuf!=4.21.0,!=4.21.1,!=4.21.2,!=4.21.3,!=4.21.4,!=4.21.5,<6.0.0dev,>=3.20.2 in c:\\users\\antho\\anaconda3\\envs\\samvad\\lib\\site-packages (from google-cloud-translate) (5.28.1)\n",
      "Collecting grpc-google-iam-v1<1.0.0dev,>=0.12.4 (from google-cloud-translate)\n",
      "  Downloading grpc_google_iam_v1-0.13.1-py2.py3-none-any.whl.metadata (3.3 kB)\n",
      "Requirement already satisfied: googleapis-common-protos<2.0.dev0,>=1.56.2 in c:\\users\\antho\\anaconda3\\envs\\samvad\\lib\\site-packages (from google-api-core!=2.0.*,!=2.1.*,!=2.10.*,!=2.2.*,!=2.3.*,!=2.4.*,!=2.5.*,!=2.6.*,!=2.7.*,!=2.8.*,!=2.9.*,<3.0.0dev,>=1.34.1->google-api-core[grpc]!=2.0.*,!=2.1.*,!=2.10.*,!=2.2.*,!=2.3.*,!=2.4.*,!=2.5.*,!=2.6.*,!=2.7.*,!=2.8.*,!=2.9.*,<3.0.0dev,>=1.34.1->google-cloud-translate) (1.65.0)\n",
      "Requirement already satisfied: requests<3.0.0.dev0,>=2.18.0 in c:\\users\\antho\\anaconda3\\envs\\samvad\\lib\\site-packages (from google-api-core!=2.0.*,!=2.1.*,!=2.10.*,!=2.2.*,!=2.3.*,!=2.4.*,!=2.5.*,!=2.6.*,!=2.7.*,!=2.8.*,!=2.9.*,<3.0.0dev,>=1.34.1->google-api-core[grpc]!=2.0.*,!=2.1.*,!=2.10.*,!=2.2.*,!=2.3.*,!=2.4.*,!=2.5.*,!=2.6.*,!=2.7.*,!=2.8.*,!=2.9.*,<3.0.0dev,>=1.34.1->google-cloud-translate) (2.32.3)\n",
      "Requirement already satisfied: grpcio<2.0dev,>=1.33.2 in c:\\users\\antho\\anaconda3\\envs\\samvad\\lib\\site-packages (from google-api-core[grpc]!=2.0.*,!=2.1.*,!=2.10.*,!=2.2.*,!=2.3.*,!=2.4.*,!=2.5.*,!=2.6.*,!=2.7.*,!=2.8.*,!=2.9.*,<3.0.0dev,>=1.34.1->google-cloud-translate) (1.66.1)\n",
      "Requirement already satisfied: grpcio-status<2.0.dev0,>=1.33.2 in c:\\users\\antho\\anaconda3\\envs\\samvad\\lib\\site-packages (from google-api-core[grpc]!=2.0.*,!=2.1.*,!=2.10.*,!=2.2.*,!=2.3.*,!=2.4.*,!=2.5.*,!=2.6.*,!=2.7.*,!=2.8.*,!=2.9.*,<3.0.0dev,>=1.34.1->google-cloud-translate) (1.66.1)\n",
      "Requirement already satisfied: cachetools<6.0,>=2.0.0 in c:\\users\\antho\\anaconda3\\envs\\samvad\\lib\\site-packages (from google-auth!=2.24.0,!=2.25.0,<3.0.0dev,>=2.14.1->google-cloud-translate) (5.3.3)\n",
      "Requirement already satisfied: pyasn1-modules>=0.2.1 in c:\\users\\antho\\anaconda3\\envs\\samvad\\lib\\site-packages (from google-auth!=2.24.0,!=2.25.0,<3.0.0dev,>=2.14.1->google-cloud-translate) (0.2.8)\n",
      "Requirement already satisfied: rsa<5,>=3.1.4 in c:\\users\\antho\\anaconda3\\envs\\samvad\\lib\\site-packages (from google-auth!=2.24.0,!=2.25.0,<3.0.0dev,>=2.14.1->google-cloud-translate) (4.9)\n",
      "Requirement already satisfied: pyasn1<0.5.0,>=0.4.6 in c:\\users\\antho\\anaconda3\\envs\\samvad\\lib\\site-packages (from pyasn1-modules>=0.2.1->google-auth!=2.24.0,!=2.25.0,<3.0.0dev,>=2.14.1->google-cloud-translate) (0.4.8)\n",
      "Requirement already satisfied: charset-normalizer<4,>=2 in c:\\users\\antho\\anaconda3\\envs\\samvad\\lib\\site-packages (from requests<3.0.0.dev0,>=2.18.0->google-api-core!=2.0.*,!=2.1.*,!=2.10.*,!=2.2.*,!=2.3.*,!=2.4.*,!=2.5.*,!=2.6.*,!=2.7.*,!=2.8.*,!=2.9.*,<3.0.0dev,>=1.34.1->google-api-core[grpc]!=2.0.*,!=2.1.*,!=2.10.*,!=2.2.*,!=2.3.*,!=2.4.*,!=2.5.*,!=2.6.*,!=2.7.*,!=2.8.*,!=2.9.*,<3.0.0dev,>=1.34.1->google-cloud-translate) (3.3.2)\n",
      "Requirement already satisfied: idna<4,>=2.5 in c:\\users\\antho\\anaconda3\\envs\\samvad\\lib\\site-packages (from requests<3.0.0.dev0,>=2.18.0->google-api-core!=2.0.*,!=2.1.*,!=2.10.*,!=2.2.*,!=2.3.*,!=2.4.*,!=2.5.*,!=2.6.*,!=2.7.*,!=2.8.*,!=2.9.*,<3.0.0dev,>=1.34.1->google-api-core[grpc]!=2.0.*,!=2.1.*,!=2.10.*,!=2.2.*,!=2.3.*,!=2.4.*,!=2.5.*,!=2.6.*,!=2.7.*,!=2.8.*,!=2.9.*,<3.0.0dev,>=1.34.1->google-cloud-translate) (3.7)\n",
      "Requirement already satisfied: urllib3<3,>=1.21.1 in c:\\users\\antho\\anaconda3\\envs\\samvad\\lib\\site-packages (from requests<3.0.0.dev0,>=2.18.0->google-api-core!=2.0.*,!=2.1.*,!=2.10.*,!=2.2.*,!=2.3.*,!=2.4.*,!=2.5.*,!=2.6.*,!=2.7.*,!=2.8.*,!=2.9.*,<3.0.0dev,>=1.34.1->google-api-core[grpc]!=2.0.*,!=2.1.*,!=2.10.*,!=2.2.*,!=2.3.*,!=2.4.*,!=2.5.*,!=2.6.*,!=2.7.*,!=2.8.*,!=2.9.*,<3.0.0dev,>=1.34.1->google-cloud-translate) (2.2.2)\n",
      "Requirement already satisfied: certifi>=2017.4.17 in c:\\users\\antho\\anaconda3\\envs\\samvad\\lib\\site-packages (from requests<3.0.0.dev0,>=2.18.0->google-api-core!=2.0.*,!=2.1.*,!=2.10.*,!=2.2.*,!=2.3.*,!=2.4.*,!=2.5.*,!=2.6.*,!=2.7.*,!=2.8.*,!=2.9.*,<3.0.0dev,>=1.34.1->google-api-core[grpc]!=2.0.*,!=2.1.*,!=2.10.*,!=2.2.*,!=2.3.*,!=2.4.*,!=2.5.*,!=2.6.*,!=2.7.*,!=2.8.*,!=2.9.*,<3.0.0dev,>=1.34.1->google-cloud-translate) (2024.8.30)\n",
      "Downloading google_cloud_translate-3.16.0-py2.py3-none-any.whl (175 kB)\n",
      "Downloading google_cloud_core-2.4.1-py2.py3-none-any.whl (29 kB)\n",
      "Downloading grpc_google_iam_v1-0.13.1-py2.py3-none-any.whl (24 kB)\n",
      "Installing collected packages: grpc-google-iam-v1, google-cloud-core, google-cloud-translate\n",
      "Successfully installed google-cloud-core-2.4.1 google-cloud-translate-3.16.0 grpc-google-iam-v1-0.13.1\n"
     ]
    }
   ],
   "source": [
    "#!pip install google-cloud-translate\n"
   ]
  },
  {
   "cell_type": "code",
   "execution_count": null,
   "id": "eb69e5e2-941d-4343-ad40-d0b4929052b0",
   "metadata": {},
   "outputs": [],
   "source": []
  }
 ],
 "metadata": {
  "kernelspec": {
   "display_name": "Python 3 (ipykernel)",
   "language": "python",
   "name": "python3"
  },
  "language_info": {
   "codemirror_mode": {
    "name": "ipython",
    "version": 3
   },
   "file_extension": ".py",
   "mimetype": "text/x-python",
   "name": "python",
   "nbconvert_exporter": "python",
   "pygments_lexer": "ipython3",
   "version": "3.10.14"
  }
 },
 "nbformat": 4,
 "nbformat_minor": 5
}
