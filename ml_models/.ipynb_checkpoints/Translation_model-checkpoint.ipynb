{
 "cells": [
  {
   "cell_type": "markdown",
   "id": "6b15828e",
   "metadata": {},
   "source": [
    "# Jupyter Notebook for the Development and Testing of Samvad.ai Translation Model"
   ]
  },
  {
   "cell_type": "code",
   "execution_count": 1,
   "id": "7d0f4bf8",
   "metadata": {
    "scrolled": true
   },
   "outputs": [],
   "source": [
    "# !pip install google-cloud-vision\n",
    "# if this doesnt work, do conda update python then try again"
   ]
  },
  {
   "cell_type": "code",
   "execution_count": 11,
   "id": "a8cc1713-c7b3-421b-aec3-4ef3bb79f9fb",
   "metadata": {},
   "outputs": [],
   "source": [
    "import os\n",
    "os.environ['GOOGLE_APPLICATION_CREDENTIALS'] = \"/dev/Coding Projects/API_keys/samvad.json\"\n",
    "# ^^^^ FILL THIS IN WITH YOUR OWN KEY TO SERVICE ACCOUNT FOR GOOGLE VISION  ^^^^"
   ]
  },
  {
   "cell_type": "code",
   "execution_count": 12,
   "id": "a5490853-43e1-4d3c-b1ec-8aebe5064a73",
   "metadata": {},
   "outputs": [
    {
     "name": "stdout",
     "output_type": "stream",
     "text": [
      "भारवाहकयन्त्रः\n",
      "अग्निनिकासः (अग्निकाले निकासमार्गः)\n",
      "निकासमार्गः\n",
      "अग्निकालीन द्वारम् न उद्घाटनीयम्\n",
      "(अग्निकलीन द्वारम् अनुद्घाटनीयम्)\n",
      "स्वीकार्य एवम् संप्रेषणकार्यालयः\n",
      "सुरक्षकअन्तर्संवाद यन्त्रः\n",
      "सहायतार्थम् इदम् प्रेषणीयम् तथोत्तरम्\n",
      "प्रतीक्षताम्\n",
      "आकस्मिकद्वारोद्घाटनार्थम् काचकम् त्रोटय\n",
      "आपत्तिकालीनदरभाषम्\n"
     ]
    }
   ],
   "source": [
    "from google.cloud import vision\n",
    "import io\n",
    "\n",
    "def extract_text_from_image(image_path):\n",
    "    \"\"\"Extracts text from an image using Google Cloud Vision API\"\"\"\n",
    "    # Initialize the Vision API client\n",
    "    client = vision.ImageAnnotatorClient()\n",
    "\n",
    "    # Load the image\n",
    "    with io.open(image_path, 'rb') as image_file:\n",
    "        content = image_file.read()\n",
    "    \n",
    "    # Create  Image object\n",
    "    image = vision.Image(content=content)\n",
    "    \n",
    "    # Perform text detection on the image\n",
    "    response = client.text_detection(image=image)\n",
    "    texts = response.text_annotations\n",
    "    \n",
    "    if response.error.message:\n",
    "        raise Exception(f\"Error during Vision API call: {response.error.message}\")\n",
    "    \n",
    "    # Extract the text\n",
    "    extracted_text = texts[0].description if texts else \"\"\n",
    "    \n",
    "    return extracted_text\n",
    "\n",
    "# Test. Will have to incorporate this differently for inputted images\n",
    "image_path = 'test_images/sampleSans1.pdf'\n",
    "extracted_text = extract_text_from_image(image_path)\n",
    "print(extracted_text)\n"
   ]
  },
  {
   "cell_type": "code",
   "execution_count": null,
   "id": "069397d1-4087-4d52-b338-25c55f1485f2",
   "metadata": {},
   "outputs": [],
   "source": []
  }
 ],
 "metadata": {
  "kernelspec": {
   "display_name": "Python 3 (ipykernel)",
   "language": "python",
   "name": "python3"
  },
  "language_info": {
   "codemirror_mode": {
    "name": "ipython",
    "version": 3
   },
   "file_extension": ".py",
   "mimetype": "text/x-python",
   "name": "python",
   "nbconvert_exporter": "python",
   "pygments_lexer": "ipython3",
   "version": "3.10.14"
  }
 },
 "nbformat": 4,
 "nbformat_minor": 5
}
