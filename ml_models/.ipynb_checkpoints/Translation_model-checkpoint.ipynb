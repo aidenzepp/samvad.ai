{
 "cells": [
  {
   "cell_type": "markdown",
   "id": "6b15828e",
   "metadata": {},
   "source": [
    "# Jupyter Notebook for the Development and Testing of Samvad.ai Translation Model"
   ]
  },
  {
   "cell_type": "code",
   "execution_count": 1,
   "id": "7d0f4bf8",
   "metadata": {
    "scrolled": true
   },
   "outputs": [],
   "source": [
    "# !pip install google-cloud-vision\n",
    "# !pip install pdf2image\n",
    "# https://github.com/oschwartz10612/poppler-windows/releases/tag/v24.08.0-0\n",
    "# if this doesnt work, do conda update python then try again"
   ]
  },
  {
   "cell_type": "code",
   "execution_count": 2,
   "id": "a8cc1713-c7b3-421b-aec3-4ef3bb79f9fb",
   "metadata": {},
   "outputs": [
    {
     "data": {
      "text/plain": [
       "'\\nimport os\\nos.environ[\\'GOOGLE_APPLICATION_CREDENTIALS\\'] = \"/dev/_.json\"\\n'"
      ]
     },
     "execution_count": 2,
     "metadata": {},
     "output_type": "execute_result"
    }
   ],
   "source": [
    "import os\n",
    "os.environ['GOOGLE_APPLICATION_CREDENTIALS'] = \"/dev/Coding Projects/API_keys/samvad_translate.json\"\n",
    "# ^^^^ FILL THIS IN WITH YOUR OWN KEY TO SERVICE ACCOUNT FOR GOOGLE VISION  ^^^^\n",
    "\n",
    "\"\"\"\n",
    "import os\n",
    "os.environ['GOOGLE_APPLICATION_CREDENTIALS'] = \"/dev/_.json\"\n",
    "\"\"\""
   ]
  },
  {
   "cell_type": "code",
   "execution_count": 3,
   "id": "a5490853-43e1-4d3c-b1ec-8aebe5064a73",
   "metadata": {
    "scrolled": true
   },
   "outputs": [
    {
     "name": "stdout",
     "output_type": "stream",
     "text": [
      "\n",
      "\n",
      "--- Page 1 ---\n",
      "\n",
      "एकादशमुखहनुमत्कवचम्\n",
      "श्रीगणेशाय नमः ।\n",
      "लोपामुद्रा उवाच ।\n",
      "कुम्भोद्भव दयासिन्धो श्रुतं हनुमतः परम् ।\n",
      "यन्त्रमन्त्रादिकं सर्वं त्वन्मुखोदीरितं मया ॥ १ ॥\n",
      "दयां कुरु मयि प्राणनाथ वेदितुमुत्सहे ।\n",
      "कवचं वायुपुत्रस्य एकादशमुखात्मनः ॥ २॥\n",
      "इत्येवं वचनं श्रुत्वा प्रियायाः प्रश्रयान्वितम् ।\n",
      "वक्तुं प्रचक्रमे तत्र लोपामुद्रां प्रति प्रभुः ॥ ३॥\n",
      "अगस्त्य उवाच ।\n",
      "नमस्कृत्वा रामदूतां हनुमन्तं महामतिम् ।\n",
      "ब्रह्मप्रोक्तं तु कवचं श ृणु सुन्दरि सादरम् ॥ ४॥\n",
      "सनन्दनाय सुमहच्चतुराननभाषितम् ।\n",
      "कवचं कामदं दिव्यं रक्षःकुलनिबर्हणम् ॥ ५॥\n",
      "सर्वसम्पत्प्रदं पुण्यं मर्त्यानां मधुरस्वरे ।\n",
      "ॐ अस्य श्रीकवचस्यैकादशवक्त्रस्य धीमतः ॥ ६॥\n",
      "हनुमत्स्तुतिमन्त्रस्य सनन्दन ऋषिः स्मृतः ।\n",
      "प्रसन्नात्मा हनूमांश्च देवता परिकीर्तिता ॥ ७ ॥\n",
      "छन्दोऽनुष्टुप् समाख्यातं बीजं वायुसुतस्तथा ।\n",
      "मुख्यः प्राणः शक्तिरिति विनियोगः प्रकीर्तितः ॥ ८॥\n",
      "सर्वकामार्थसिद्ध्यर्थं जप एवमुदीरयेत् ।\n",
      "ॐ स्फ्रें-बीजं शक्तिधृक् पातु शिरो मे पवनात्मजः ॥ ९॥\n",
      "क्रौं-बीजात्मा नयनयोः पातु मां वानरेश्वरः ।\n",
      "क्षं-बीजरूपः कर्णौ मे सीताशोकविनाशनः ॥ १० ॥\n",
      "ग्लौं- बीजवाच्यो नासां मे लक्ष्मणप्राणदायकः ।\n",
      "वं-बीजार्थश्च कण्ठं मे पातु चाक्षयकारकः ॥ ११ ॥\n",
      "ऐं-बीजवाच्यो हृदयं पातु मे कपिनायकः ।\n",
      "वं-बीजकीर्तितः पातु बाहू मे चाञ्जनीसुतः ॥ १२॥\n",
      "\n",
      "--- Page 2 ---\n",
      "\n",
      "ह्रां - बीजो राक्षसेन्द्रस्य दर्पहा पात् चोदरम् ।\n",
      "ह्रसौं-बीजमयो मध्यं पातु लङ्कविदाहकः ॥ १३॥\n",
      "ह्रीं बीजधरः पातु गुह्यं देवेन्द्रवन्दितः ।\n",
      "रं-बीजात्मा सदा पातु चोरू वार्धिलंघनः ॥ १४॥\n",
      "सुग्रीवसचिवः पातु जानुनी मे मनोजवः ।\n",
      "पादौ पादतले पातु द्रोणाचलधरो हरिः ॥ १५॥\n",
      "आपादमस्तकं पातु रामदूतो महाबलः ।\n",
      "पूर्वे वानरवक्त्रो मामाग्नेय्यां क्षत्रियान्तकृत् ॥ १६॥\n",
      "दक्षिणे नारसिंहस्तु नैरृत्यां गणनायकः ।\n",
      "वारुण्यां दिशि मामव्यात्खगवक्त्रो हरीश्वरः ॥ १७॥\n",
      "वायव्यां भैरवमुखः कौबेर्यां पातु मां सदा ।\n",
      "क्रोडास्यः पातु मां नित्यमैशान्यां रुद्ररूपधृक् ॥ १८॥\n",
      "ऊर्ध्वं हयाननः पातु गुह्याधः सुमुखस्तथा ।\n",
      "रामास्यः पातु सर्वत्र सौम्यरूपो महाभुजः ॥ १९॥\n",
      "इत्येवं रामदूतस्य कवचं यः पठेत्सदा ।\n",
      "एकादशमुखस्यैतद्गोप्यं वै कीर्तितं मया ॥ २०॥\n",
      "रक्षोघ्नं कामदं सौम्यं सर्वसम्पद्विधायकम् ।\n",
      "पुत्रदं धनदं चोग्रशत्रुसंघविमर्दनम् ॥ २१ ॥\n",
      "स्वर्गापवर्गदं दिव्यं चिन्तितार्थप्रदं शुभम् ।\n",
      "एतत्कवचमज्ञात्वा मन्त्रसिद्धिर्न जायते ॥ २२॥\n",
      "चत्वारिंशत्सहस्राणि पठेच्छुद्धात्मको नरः ।\n",
      "एकवारं पठेन्नित्यं कवचं सिद्धिदं पुमान् ॥ २३॥\n",
      "द्विवारं वा त्रिवारं वा पठन्नायुष्यमाप्नुयात् ।\n",
      "क्रमादेकादशादेवमावर्तनजपात्सुधीः ॥ २४ ॥\n",
      "वर्षान्ते दर्शनं साक्षाल्लभते नात्र संशयः ।\n",
      "यं यं चिन्तयते चार्थं तं तं प्राप्नोति पूरुषः ॥ २५॥\n",
      "ब्रह्मोदीरितमेतद्धि तवाग्रे कथितं महत् ॥ २६ ॥\n",
      "इत्येवमुक्त्वा वचनं महर्षिस्तूष्णीं बभूवेन्दुमुखीं निरीक्ष्य ।\n",
      "संहृष्टचित्तापि तदा तदीयपादौ ननामातिमुदा स्वभर्तुः ॥ २७ ॥\n",
      "\n",
      "--- Page 3 ---\n",
      "\n",
      "॥ इत्यगस्त्यसारसंहितायामेकादशमुखहनुमत्कवचं सम्पूर्णम् ॥\n"
     ]
    }
   ],
   "source": [
    "from google.cloud import vision\n",
    "import io\n",
    "from pdf2image import convert_from_path\n",
    "import os\n",
    "\n",
    "def extract_text_from_file(file_path):\n",
    "    \"\"\"Extracts text from an image or PDF using Google Cloud Vision API\"\"\"\n",
    "    # Initialize the Vision API client\n",
    "    client = vision.ImageAnnotatorClient()\n",
    "\n",
    "    # Extract file extension to determine if it's a PDF or an image\n",
    "    file_ext = os.path.splitext(file_path)[1].lower()\n",
    "\n",
    "    if file_ext == '.pdf':\n",
    "        # Convert PDF to images (one image per page)\n",
    "        images = convert_from_path(file_path)\n",
    "\n",
    "        # Initialize variable to hold all extracted text\n",
    "        full_text = \"\"\n",
    "\n",
    "        # Process each page\n",
    "        for i, image in enumerate(images):\n",
    "            # Convert PIL Image to byte array\n",
    "            image_byte_array = io.BytesIO()\n",
    "            image.save(image_byte_array, format='PNG')\n",
    "            content = image_byte_array.getvalue()\n",
    "\n",
    "            # Create Vision API Image object\n",
    "            vision_image = vision.Image(content=content)\n",
    "\n",
    "            # Perform text detection on the image\n",
    "            response = client.text_detection(image=vision_image)\n",
    "            texts = response.text_annotations\n",
    "\n",
    "            if response.error.message:\n",
    "                raise Exception(f\"Error during Vision API call on page {i + 1}: {response.error.message}\")\n",
    "\n",
    "            # Extract the text from the page and append to full_text\n",
    "            page_text = texts[0].description if texts else \"\"\n",
    "            full_text += f\"\\n\\n--- Page {i + 1} ---\\n\\n{page_text}\"\n",
    "\n",
    "        return full_text\n",
    "\n",
    "    elif file_ext in ['.png', '.jpg', '.jpeg']:\n",
    "        # Handle as an image\n",
    "        with io.open(file_path, 'rb') as image_file:\n",
    "            content = image_file.read()\n",
    "\n",
    "        # Create Image object for Vision API\n",
    "        image = vision.Image(content=content)\n",
    "\n",
    "        # Perform text detection on the image\n",
    "        response = client.text_detection(image=image)\n",
    "        texts = response.text_annotations\n",
    "\n",
    "        if response.error.message:\n",
    "            raise Exception(f\"Error during Vision API call: {response.error.message}\")\n",
    "\n",
    "        # Extract the text\n",
    "        extracted_text = texts[0].description if texts else \"\"\n",
    "\n",
    "        return extracted_text\n",
    "\n",
    "    else:\n",
    "        # Unsupported file format\n",
    "        raise Exception(f\"Unsupported file type: {file_ext}\")\n",
    "\n",
    "\n",
    "# Test with PDF file path\n",
    "file_path = 'test_images/samplesans2.pdf'\n",
    "extracted_text = extract_text_from_file(file_path)\n",
    "print(extracted_text)\n"
   ]
  },
  {
   "cell_type": "markdown",
   "id": "8411eac8-a2e2-4af7-8db1-103d29ea6b4e",
   "metadata": {},
   "source": [
    "# Translating extracted text"
   ]
  },
  {
   "cell_type": "code",
   "execution_count": 4,
   "id": "0361d4c2-3097-4914-85c3-3b869812f4fa",
   "metadata": {},
   "outputs": [],
   "source": [
    "#!pip install google-cloud-translate\n"
   ]
  },
  {
   "cell_type": "code",
   "execution_count": 5,
   "id": "20f82755-72d2-4037-a65e-8b9d094c113b",
   "metadata": {},
   "outputs": [],
   "source": [
    "from google.cloud import translate_v2 as translate"
   ]
  },
  {
   "cell_type": "code",
   "execution_count": 6,
   "id": "eb69e5e2-941d-4343-ad40-d0b4929052b0",
   "metadata": {},
   "outputs": [],
   "source": [
    "def google_translate_text(text, target_language='en'):\n",
    "    # initialize the translation client\n",
    "    translate_client = translate.Client()\n",
    "    result = translate_client.translate(text, target_language=target_language)\n",
    "    return result['translatedText']"
   ]
  },
  {
   "cell_type": "code",
   "execution_count": 7,
   "id": "6a1e5937-cc28-4514-8808-f020e8bbba00",
   "metadata": {},
   "outputs": [
    {
     "name": "stdout",
     "output_type": "stream",
     "text": [
      "\n",
      "\n",
      "--- Page 1 --- Eleven-faced Hanuman Kavacham Lopamudra said. The ocean of mercy born from the waterpot is heard from Hanuman. I have uttered from your mouth all the instruments and mantras. 1 ॥ O Lord of my life, please have mercy on me, for I wish to know. This is the shield of the eleven-faced Lord, the son of the air. 2॥ Hearing these words of his beloved, he was humbled. Then the Lord began to speak to the Lopamudra. 3॥ Agastya said. Having offered obeisances to the intelligent Hanuman the messenger of Rama O beautiful lady, please hear with great attention this shield spoken by Lord Brahmā. 4॥ The four-faced Lord spoke very loudly to Sanandana. This divine shield bestows all desires and destroys the clan of rakshasas 5॥ It is a pious and sweet voice that bestows all opulences on mortals. ॐ This is the eleven-faced intelligent Śrīkavaca. 6॥ The sage Sanandana is the author of the Hanuman stuti mantra. Hanuman is described as the deity of the satisfied soul 7 ॥ The chanda is Anuṣṭup, and the seed is the son of Vāyu. The chief life force is the power, and the viniyoga is described. 8॥ One should chant this mantra for the fulfillment of all desires and objectives. ॐ Sfren-seed, the holder of power, may the son of the wind protect my head. 9. 9॥ May the soul of the seed of the crown, the lord of the monkeys, protect me in my eyes. He is in the form of the seed of forgiveness and destroys the sorrow of Sita in my ears 10 ॥ The gloun- seed is the life-giver of Lakshmana in my nose. May the seed-artha of Vām and the cause of inexhaustibility protect my neck. 11 ॥ May the seed-word Aim protect my heart, the leader of the monkeys. May the son of Anjani, known as Vām-bīja, protect my arms. 12. 12. --- Page 2 --- Hram - The seed is the pride-killing foot of the demon king. May the hrsaun-seed-bearing one who burns Lanka protect the middle. 13. 13. hrīm, the seed-bearer, may protect my secret, worshiped by the lord of the demigods. May the seed-soul of Ram, who crosses the ocean, always protect my thighs. 14॥ May the secretary of Sugriva protect my knees and the speed of my mind May Lord Hari, who holds the Dronācala mountain, protect my feet and the soles of my feet. 15. 15. May the mighty messenger of Rama protect my feet and head In the east he had the face of a monkey and in the south he killed the kṣatriyas. 16. Narasimha is on the south and Gana Nayaka is on the north. The bird-faced lord of monkeys protected me in the direction of Varuṇa. 17. 17. May the face of Bhīrava always protect me in the northwest and in the Kauberī. May the crocodile-faced Lord, who assumes the form of Lord Śiva, always protect me in the northeast. 18. 18॥ May the horse-faced Lord protect me above, and may the beautiful-faced Lord protect me below. May the gentle-looking mightyarmed Lord protect the face of Rama everywhere. 19. 19. One who thus recites the kavaca of the messenger of Rama I have now described to you the mystery of the eleven-faced Lord. 20. 20॥ It destroys demons and bestows desires, is gentle and bestows all wealth. It bestows sons and wealth and crushes hosts of fierce enemies 21 ॥ It is divine and auspicious and gives heaven and liberation. Without knowing this shield one cannot attain the perfection of chanting mantras 22॥ A man who is pure in heart should recite this mantra forty thousand times. Anyone who daily recites this kavaca once will attain perfection. 23. 23. One who recites this mantra twice or three times will attain longevity A prudent person should chant the eleventh mantra in order. 24 ॥ There is no doubt that at the end of the year he will receive the sight in person Whatever purpose a man thinks of he attains. 25. 25. I have already described to you this great story spoken by Lord Brahmā. 26 ॥ Having spoken thus the great sage became silent and looked at the face of the moon She was overjoyed and bowed down at the feet of her husband. 27 ॥ --- Page 3 --- ॥ This eleven-faced Hanuman kavaca is complete in the Agastya-sāra-saṁhitā.\n"
     ]
    }
   ],
   "source": [
    "translated_text = google_translate_text(extracted_text)\n",
    "print(translated_text)"
   ]
  },
  {
   "cell_type": "code",
   "execution_count": 2,
   "id": "b649ffcb",
   "metadata": {
    "scrolled": true
   },
   "outputs": [],
   "source": [
    "# !pip install google-cloud-vision\n",
    "# if this doesnt work, do conda update python then try again"
   ]
  },
  {
   "cell_type": "code",
   "execution_count": 3,
   "id": "90c6d16b",
   "metadata": {},
   "outputs": [
    {
     "data": {
      "text/plain": [
       "'\\nimport os\\nos.environ[\\'GOOGLE_APPLICATION_CREDENTIALS\\'] = \"/dev/_.json\"\\n'"
      ]
     },
     "execution_count": 3,
     "metadata": {},
     "output_type": "execute_result"
    }
   ],
   "source": [
    "import os\n",
    "os.environ['GOOGLE_APPLICATION_CREDENTIALS'] = \"/dev/Coding Projects/API_keys/samvad_translate.json\"\n",
    "# ^^^^ FILL THIS IN WITH YOUR OWN KEY TO SERVICE ACCOUNT FOR GOOGLE VISION  ^^^^\n",
    "\n",
    "\"\"\"\n",
    "import os\n",
    "os.environ['GOOGLE_APPLICATION_CREDENTIALS'] = \"/dev/_.json\"\n",
    "\"\"\""
   ]
  },
  {
   "cell_type": "code",
   "execution_count": 4,
   "id": "31bbe6c7",
   "metadata": {},
   "outputs": [
    {
     "name": "stdout",
     "output_type": "stream",
     "text": [
      "भारवाहकयन्त्रः\n",
      "अग्निनिकासः (अग्निकाले निकासमार्गः)\n",
      "निकासमार्गः\n",
      "अग्निकालीन द्वारम् न उद्घाटनीयम्\n",
      "(अग्निकलीन द्वारम् अनुद्घाटनीयम्)\n",
      "स्वीकार्य एवम् संप्रेषणकार्यालयः\n",
      "सुरक्षकअन्तर्संवाद यन्त्रः\n",
      "सहायतार्थम् इदम् प्रेषणीयम् तथोत्तरम्\n",
      "प्रतीक्षताम्\n",
      "आकस्मिकद्वारोद्घाटनार्थम् काचकम् त्रोटय\n",
      "आपत्तिकालीनदरभाषम्\n"
     ]
    }
   ],
   "source": [
    "from google.cloud import vision\n",
    "import io\n",
    "\n",
    "def extract_text_from_image(image_path):\n",
    "    \"\"\"Extracts text from an image using Google Cloud Vision API\"\"\"\n",
    "    # Initialize the Vision API client\n",
    "    client = vision.ImageAnnotatorClient()\n",
    "\n",
    "    # Load the image\n",
    "    with io.open(image_path, 'rb') as image_file:\n",
    "        content = image_file.read()\n",
    "    \n",
    "    # Create  Image object\n",
    "    image = vision.Image(content=content)\n",
    "    \n",
    "    # Perform text detection on the image\n",
    "    response = client.text_detection(image=image)\n",
    "    texts = response.text_annotations\n",
    "    \n",
    "    if response.error.message:\n",
    "        raise Exception(f\"Error during Vision API call: {response.error.message}\")\n",
    "    \n",
    "    # Extract the text\n",
    "    extracted_text = texts[0].description if texts else \"\"\n",
    "    \n",
    "    return extracted_text\n",
    "\n",
    "# Test. Will have to incorporate this differently for inputted images\n",
    "image_path = 'test_images/sampleSans1.pdf'\n",
    "extracted_text = extract_text_from_image(image_path)\n",
    "print(extracted_text)\n"
   ]
  },
  {
   "cell_type": "markdown",
   "id": "c7b59f5e",
   "metadata": {},
   "source": [
    "# Translating extracted text"
   ]
  },
  {
   "cell_type": "code",
   "execution_count": 5,
   "id": "2c2b311d",
   "metadata": {},
   "outputs": [],
   "source": [
    "#!pip install google-cloud-translate\n"
   ]
  },
  {
   "cell_type": "code",
   "execution_count": 6,
   "id": "b085d24a",
   "metadata": {},
   "outputs": [],
   "source": [
    "from google.cloud import translate_v2 as translate"
   ]
  },
  {
   "cell_type": "code",
   "execution_count": 7,
   "id": "b1b5a986",
   "metadata": {},
   "outputs": [],
   "source": [
    "def google_translate_text(text, target_language='en'):\n",
    "    # initialize the translation client\n",
    "    translate_client = translate.Client()\n",
    "    result = translate_client.translate(text, target_language=target_language)\n",
    "    return result['translatedText']"
   ]
  },
  {
   "cell_type": "code",
   "execution_count": 8,
   "id": "5fc3db26",
   "metadata": {},
   "outputs": [
    {
     "name": "stdout",
     "output_type": "stream",
     "text": [
      "Load-bearing machine Fire exhaust (fire exit) Exit fire door not to open (fire door not to be opened) Acceptable and transmission office Safety interface device Send this for assistance and wait for an answer Break the glass for emergency door opening Emergency door\n"
     ]
    }
   ],
   "source": [
    "translated_text = google_translate_text(extracted_text)\n",
    "print(translated_text)"
   ]
  },
  {
   "cell_type": "code",
   "execution_count": null,
   "id": "5a64678a-0a98-41c6-9d24-f01e996a8998",
   "metadata": {},
   "outputs": [],
   "source": []
  }
 ],
 "metadata": {
  "kernelspec": {
   "display_name": "Python 3 (ipykernel)",
   "language": "python",
   "name": "python3"
  },
  "language_info": {
   "codemirror_mode": {
    "name": "ipython",
    "version": 3
   },
   "file_extension": ".py",
   "mimetype": "text/x-python",
   "name": "python",
   "nbconvert_exporter": "python",
   "pygments_lexer": "ipython3",
   "version": "3.10.14"
  }
 },
 "nbformat": 4,
 "nbformat_minor": 5
}
